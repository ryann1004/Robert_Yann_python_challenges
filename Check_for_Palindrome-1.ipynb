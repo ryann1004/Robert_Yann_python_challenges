{
 "cells": [
  {
   "cell_type": "code",
   "execution_count": 6,
   "id": "0ef9aa6b",
   "metadata": {},
   "outputs": [
    {
     "name": "stdout",
     "output_type": "stream",
     "text": [
      "The string is a palindrome.\n"
     ]
    }
   ],
   "source": [
    "def is_palindrome(string):\n",
    "    string = string.lower()\n",
    "    forward_increment = 0\n",
    "    backward_decrement = len(string) - 1\n",
    "    while forward_increment < backward_decrement:\n",
    "        if string[forward_increment] == string[backward_decrement]:\n",
    "            return True\n",
    "        forward_increment += 1\n",
    "        backward_decrement -= 1\n",
    "    else:\n",
    "        return False\n",
    "\n",
    "input_string = input(\"Enter a string: \")\n",
    "if is_palindrome(input_string):\n",
    "    print(\"The string is a palindrome.\")\n",
    "else:\n",
    "    print(\"The string is not a palindrome.\")\n",
    "    "
   ]
  }
 ],
 "metadata": {
  "kernelspec": {
   "display_name": "Python 3",
   "language": "python",
   "name": "python3"
  },
  "language_info": {
   "codemirror_mode": {
    "name": "ipython",
    "version": 3
   },
   "file_extension": ".py",
   "mimetype": "text/x-python",
   "name": "python",
   "nbconvert_exporter": "python",
   "pygments_lexer": "ipython3",
   "version": "3.13.5"
  }
 },
 "nbformat": 4,
 "nbformat_minor": 5
}

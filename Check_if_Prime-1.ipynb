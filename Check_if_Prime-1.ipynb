{
 "cells": [
  {
   "cell_type": "code",
   "execution_count": 13,
   "id": "2e3c8331",
   "metadata": {},
   "outputs": [
    {
     "name": "stdout",
     "output_type": "stream",
     "text": [
      "True\n"
     ]
    }
   ],
   "source": [
    "\n",
    "# Define a function named 'test_prime' that checks if a number 'n' is a prime number\n",
    "def test_prime(n):\n",
    "    # Check if 'n' is equal to 1\n",
    "    if (n == 1):\n",
    "        # If 'n' is 1, return False (1 is not a prime number)\n",
    "        return False\n",
    "    # Check if 'n' is equal to 2\n",
    "    elif (n == 2):\n",
    "        # If 'n' is 2, return True (2 is a prime number)\n",
    "        return True\n",
    "    else:\n",
    "        # Iterate through numbers from 2 to (n-1) using 'x' as the iterator\n",
    "        for x in range(2, n):\n",
    "            # Check if 'n' is divisible by 'x' without any remainder\n",
    "            if (n % x == 0):\n",
    "                # If 'n' is divisible by 'x', return False (not a prime number)\n",
    "                return False\n",
    "        # If 'n' is not divisible by any number from 2 to (n-1), return True (prime number)\n",
    "        return True\n",
    "\n",
    "# Print the result of checking if 9 is a prime number by calling the 'test_prime' function\n",
    "print(test_prime(13))\n",
    "\n",
    "\n",
    "        "
   ]
  }
 ],
 "metadata": {
  "kernelspec": {
   "display_name": "Python 3",
   "language": "python",
   "name": "python3"
  },
  "language_info": {
   "codemirror_mode": {
    "name": "ipython",
    "version": 3
   },
   "file_extension": ".py",
   "mimetype": "text/x-python",
   "name": "python",
   "nbconvert_exporter": "python",
   "pygments_lexer": "ipython3",
   "version": "3.13.5"
  }
 },
 "nbformat": 4,
 "nbformat_minor": 5
}

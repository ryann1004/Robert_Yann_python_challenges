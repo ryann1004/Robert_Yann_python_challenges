{
 "cells": [
  {
   "cell_type": "code",
   "execution_count": null,
   "id": "05a4703e",
   "metadata": {},
   "outputs": [],
   "source": [
    "def find_max(list):\n",
    "    max = list[0]\n",
    "    for a in list:\n",
    "        if a > max:\n",
    "            max = a\n",
    "     return max\n",
    " print(find_max([1, 2, -4, 0]))       "
   ]
  }
 ],
 "metadata": {
  "language_info": {
   "name": "python"
  }
 },
 "nbformat": 4,
 "nbformat_minor": 5
}

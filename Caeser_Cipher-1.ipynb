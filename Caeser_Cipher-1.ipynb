{
 "cells": [
  {
   "cell_type": "code",
   "execution_count": null,
   "id": "f8b14d7e",
   "metadata": {},
   "outputs": [],
   "source": [
    "def caesar_cipher(text, shift):\n",
    "    result = []\n",
    "\n",
    "    for chr in text:\n",
    "        if chr.isalpha():  # Check if the character is an alphabet\n",
    "            # Determine the ASCII offset based on case\n",
    "            offset = ord('A') if chr.isupper() else ord('a')\n",
    "            # Shift the character and wrap around using modulo\n",
    "            shifted_chr = chr((ord(chr) - offset + shift) % 26 + offset)\n",
    "            result.append(shifted_chr)\n",
    "        else:\n",
    "            result.append(chr)  # Keep non-letter characters unchanged\n",
    "\n",
    "    return ''.join(result)\n",
    "\n",
    "# Example usage:\n",
    "text = \"Hello, World! 123\"\n",
    "shift = 3\n",
    "print(caesar_cipher(text, shift))  # Output: \"Khoor, Zruog! 123\"\n"
   ]
  }
 ],
 "metadata": {
  "kernelspec": {
   "display_name": "Python 3",
   "language": "python",
   "name": "python3"
  },
  "language_info": {
   "codemirror_mode": {
    "name": "ipython",
    "version": 3
   },
   "file_extension": ".py",
   "mimetype": "text/x-python",
   "name": "python",
   "nbconvert_exporter": "python",
   "pygments_lexer": "ipython3",
   "version": "3.13.5"
  }
 },
 "nbformat": 4,
 "nbformat_minor": 5
}
